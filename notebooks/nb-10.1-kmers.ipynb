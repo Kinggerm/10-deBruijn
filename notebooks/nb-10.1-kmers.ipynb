{
 "cells": [
  {
   "cell_type": "markdown",
   "metadata": {},
   "source": [
    "# Notebook 10.1: kmers & *de Bruijn* graphs \n",
    "\n",
    "\n",
    "\n",
    "### Reading:\n",
    "This notebook is meant to accompany the following assigned article: Compeau, Phillip E. C., Pavel A. Pevzner, and Glenn Tesler. 2011. “How to Apply de Bruijn Graphs to Genome Assembly.” Nature Biotechnology 29 (11): 987–91. https://doi.org/10.1038/nbt.2023.\n",
    "\n",
    "\n",
    "### Learning objectives: \n",
    "\n",
    "By the end of this notebook you should: \n",
    "\n",
    "1. Understand the concept of kmers.\n",
    "2. Be able to extract kmers from a string using Python."
   ]
  },
  {
   "cell_type": "markdown",
   "metadata": {},
   "source": [
    "### kmers and the de Bruijn graph\n",
    "\n",
    "**kmers** are substrings of length k of a larger string. The concept of kmers is used widely within computational genomics, both for mathematical reasons having to do with their application in *graph theory*, as well as for practical computational reasons having to do with the way they can be efficiently stored in memory and compared as a way of measuring similarity of genomic regions.  \n",
    "\n",
    "The **de Bruijn graph** is a mathematical construct used in genome assembly and other network based problems. It relies on the conjecture that a sequence can be reconstructed by substrings of that sequence if all substrings are present and overlap by n-1 (more on this later). An example type of substring is genomic short read sequences, which are a subset of the full genome sequence they are generated from. In practice, short reads may not overlap each other by n-1, but by using smaller kmers from each of many short reads more substrings can be generated which may more easily overlap by n-1 and thus be used to reconstruct the sequence. See image for example.\n",
    "\n",
    "\n",
    "<img src=\"https://upload.wikimedia.org/wikipedia/commons/5/53/K-mer-example.png\" style=\"width:80%; margin:50px\">\n",
    "\n",
    "<center>\n",
    "<a href=\"https://en.wikipedia.org/wiki/K-mer\">https://en.wikipedia.org/wiki/K-mer</a>\n",
    "</center>"
   ]
  },
  {
   "cell_type": "markdown",
   "metadata": {},
   "source": [
    "### How many kmers are possible?\n",
    "\n",
    "There exist n$^k$ k-mers in an alphabet containing n symbols: for example, given the DNA alphabet comprising A, T, G and C nucleotides, there are 4$^3$ = 64 trinucleotides (3mers). Similarly, your reading shows an example of a binary alphabet (0s and 1s) in which the number of 3mers is 2$^3$ = 8. \n",
    "\n",
    "\n",
    "We can calculate this easily:"
   ]
  },
  {
   "cell_type": "code",
   "execution_count": 1,
   "metadata": {},
   "outputs": [
    {
     "data": {
      "text/plain": [
       "64"
      ]
     },
     "execution_count": 1,
     "metadata": {},
     "output_type": "execute_result"
    }
   ],
   "source": [
    "# number of nucleotides in DNA alphabet, e.g., ACGCGCGTATATTT\n",
    "n = 4\n",
    "\n",
    "# kmer size\n",
    "k = 3\n",
    "\n",
    "# n (number of items in alphabet) raised to k (size of kmer)\n",
    "n ** k"
   ]
  },
  {
   "cell_type": "code",
   "execution_count": 2,
   "metadata": {},
   "outputs": [
    {
     "data": {
      "text/plain": [
       "8"
      ]
     },
     "execution_count": 2,
     "metadata": {},
     "output_type": "execute_result"
    }
   ],
   "source": [
    "# number of items in binary alphabet: e.g., 010101110000\n",
    "n = 2\n",
    "\n",
    "# kmer size\n",
    "k = 3\n",
    "\n",
    "# n (number of items in alphabet) raised to k (size of kmer)\n",
    "n ** k"
   ]
  },
  {
   "cell_type": "markdown",
   "metadata": {},
   "source": [
    "<div class=\"alert alert-success\">\n",
    "    <b>[1] Action:</b> Above we calculated the number of 3-mers. How many possible 8-mers can be produced from the nucleotide alphabet (A, C, G, and T)? Calculate the answer in the cell below. \n",
    "</div>"
   ]
  },
  {
   "cell_type": "code",
   "execution_count": 3,
   "metadata": {},
   "outputs": [
    {
     "data": {
      "text/plain": [
       "65536"
      ]
     },
     "execution_count": 3,
     "metadata": {},
     "output_type": "execute_result"
    }
   ],
   "source": [
    "# number of nucleotides in DNA alphabet, e.g., ACGCGCGTATATTT\n",
    "n = 4\n",
    "\n",
    "# kmer size\n",
    "k = 8\n",
    "\n",
    "# n (number of items in alphabet) raised to k (size of kmer)\n",
    "n ** k"
   ]
  },
  {
   "cell_type": "markdown",
   "metadata": {},
   "source": [
    "### How many kmers are in a sequence\n",
    "A given sequence may be composed of all possible kmers in its alphabet, or by only a subset of kmers that are possible. Since kmers are just subsets of a larger string we can use *slicing* to select kmers from strings in Python. Above we saw that there are 64 possible 3mers in the DNA alphabet. The small genome below contains only 10 kmers. "
   ]
  },
  {
   "cell_type": "code",
   "execution_count": 4,
   "metadata": {},
   "outputs": [
    {
     "name": "stdout",
     "output_type": "stream",
     "text": [
      "ATG\n",
      "TGG\n",
      "GGC\n",
      "GCG\n",
      "CGT\n",
      "GTG\n",
      "TGC\n",
      "GCA\n",
      "CAA\n",
      "AAT\n"
     ]
    }
   ],
   "source": [
    "# define a small genome string\n",
    "genome =  \"ATGGCGTGCA\"\n",
    "\n",
    "# define the kmer length\n",
    "k = 3\n",
    "\n",
    "# iterate over starting positions of the genome string\n",
    "for start_position in range(len(genome)):\n",
    "    \n",
    "    # get 3-mer by slicing start position to start position + 3\n",
    "    kmer = genome[start_position: start_position + k]\n",
    "    \n",
    "    # if the kmer is at the end then wrap-around to beginning\n",
    "    klen = len(kmer)\n",
    "    if klen < k:\n",
    "        kmer += genome[0: k - klen]\n",
    "        \n",
    "    # print the kmer\n",
    "    print(kmer)"
   ]
  },
  {
   "cell_type": "markdown",
   "metadata": {},
   "source": [
    "### Hamiltonian and Eulerian cycles/paths\n",
    "\n",
    "Your reading provides an example of the contig sequence \"ATGGCGTCGCA\" that is covered by three short read sequences (shown below), each of which partially overlaps the full contig sequence. We can see visually that any individual read does not contain enough information to construct the full contig, but that in combination the three reads could. The trick of **genome assembly** is figuring out the correct positioning and ordering of reads such that they will overlap correctly to represent the full genome sequence. Through the development of *graph theory* this problem can be re-stated by assigning the kmers in a string as nodes or edges in a graph and finding the shortest cycle/path that visits each node once (the Eulerian cycle). "
   ]
  },
  {
   "cell_type": "code",
   "execution_count": 5,
   "metadata": {},
   "outputs": [],
   "source": [
    "genome =  \"ATGGCGTGCA\"\n",
    "read1 =       \"CGTGCAA\"\n",
    "read2 =   \"ATGGCGT\"\n",
    "read3 = \"CAATGGC\""
   ]
  },
  {
   "cell_type": "markdown",
   "metadata": {},
   "source": [
    "For the purpose of genome assembly it is convenient to split up these reads into smaller kmers so that there are more individual bits that can cover each part of the genome, and so that those bits can be tiled to overlap by n-1 positions. When the data are represented in this way it is easier to find a unique path -- a unique way in which to order the kmers that will reconstruct the genome string. Below I wrote out the 10 kmers in this string that we extracted computationally using slicing above. "
   ]
  },
  {
   "cell_type": "code",
   "execution_count": 6,
   "metadata": {},
   "outputs": [],
   "source": [
    "genome =  \"ATGGCGTGCA\"\n",
    "kmer1 =   \"ATG\"\n",
    "kmer2 =    \"TGG\"\n",
    "kmer3 =     \"GGC\"\n",
    "kmer4 =      \"GCG\"\n",
    "kmer5 =       \"CGT\"\n",
    "kmer6 =        \"GTG\"\n",
    "kmer7 =         \"TGC\"\n",
    "kmer8 =          \"GCA\"\n",
    "kmer9 =           \"CA\" + \"A\"      # these wrap around to the beginning again\n",
    "kmer10 =           \"A\" + \"AT\""
   ]
  },
  {
   "cell_type": "markdown",
   "metadata": {},
   "source": [
    "One way to find the correct order of kmers is to construct a graph using *pairwise alignments* to connect kmers as nodes as in the graph. This is the basis for Hamiltonian genome assembly methods. An alternative approach is to represent the problem as a *de Bruijn* graph, where the kmers represent edges of the graph rather than the nodes. "
   ]
  },
  {
   "cell_type": "markdown",
   "metadata": {},
   "source": [
    "<div class=\"alert alert-success\">\n",
    "    <b>[2] Question:</b> Why has the Hamiltonian cycle method of graph inference fallen out of favor, and largely been replace by de Bruijn graph methods for assembly of short-read sequences? Answer using Markdown in the cell below. \n",
    "</div>"
   ]
  },
  {
   "cell_type": "markdown",
   "metadata": {},
   "source": [
    "<div class=\"alert alert-warning\">\n",
    "\n",
    "As described in the paper the *de Bruijn* graph method does not require measuring pairwise differences between every pair of sequences whereas the Hamiltonian graph method does. For short-read data where we have many millions of reads this would be too time consuming. Instead, for *de Bruijn* graphs we only need to measure whether kmers match identically at the n-1 portion that they overlap. This calculation is very fast. In this graph the edges are the kmers and the nodes are the (k-1)mers. \n",
    "\n",
    "</div>"
   ]
  },
  {
   "cell_type": "markdown",
   "metadata": {},
   "source": [
    "<div class=\"alert alert-success\">\n",
    "    <b>[3] Action:</b> \n",
    "    Write a function to get all 5-mers from the genome sequence below, and have it return the kmers as a list. \n",
    "</div>"
   ]
  },
  {
   "cell_type": "code",
   "execution_count": 7,
   "metadata": {},
   "outputs": [],
   "source": [
    "# genome sequence for the exercise\n",
    "genome = \"AAAACCCCTTTTGGGGATATCGCGATATCGCG\""
   ]
  },
  {
   "cell_type": "code",
   "execution_count": 8,
   "metadata": {},
   "outputs": [],
   "source": [
    "# write your function here\n",
    "def get_kmers(sequence, k):\n",
    "    kmers = []\n",
    "    \n",
    "    for i in range(0, len(sequence)):\n",
    "        kmer = sequence[i: i+k]\n",
    "        if len(kmer) == 5:\n",
    "            kmers.append(kmer)\n",
    "        \n",
    "    return kmers\n",
    "    "
   ]
  },
  {
   "cell_type": "code",
   "execution_count": 9,
   "metadata": {},
   "outputs": [
    {
     "data": {
      "text/plain": [
       "['AAAAC',\n",
       " 'AAACC',\n",
       " 'AACCC',\n",
       " 'ACCCC',\n",
       " 'CCCCT',\n",
       " 'CCCTT',\n",
       " 'CCTTT',\n",
       " 'CTTTT',\n",
       " 'TTTTG',\n",
       " 'TTTGG',\n",
       " 'TTGGG',\n",
       " 'TGGGG',\n",
       " 'GGGGA',\n",
       " 'GGGAT',\n",
       " 'GGATA',\n",
       " 'GATAT',\n",
       " 'ATATC',\n",
       " 'TATCG',\n",
       " 'ATCGC',\n",
       " 'TCGCG',\n",
       " 'CGCGA',\n",
       " 'GCGAT',\n",
       " 'CGATA',\n",
       " 'GATAT',\n",
       " 'ATATC',\n",
       " 'TATCG',\n",
       " 'ATCGC',\n",
       " 'TCGCG']"
      ]
     },
     "execution_count": 9,
     "metadata": {},
     "output_type": "execute_result"
    }
   ],
   "source": [
    "# execute your function on the genome here\n",
    "get_kmers(genome, 5)"
   ]
  }
 ],
 "metadata": {
  "kernelspec": {
   "display_name": "Python 3",
   "language": "python",
   "name": "python3"
  },
  "language_info": {
   "codemirror_mode": {
    "name": "ipython",
    "version": 3
   },
   "file_extension": ".py",
   "mimetype": "text/x-python",
   "name": "python",
   "nbconvert_exporter": "python",
   "pygments_lexer": "ipython3",
   "version": "3.7.3"
  }
 },
 "nbformat": 4,
 "nbformat_minor": 2
}
