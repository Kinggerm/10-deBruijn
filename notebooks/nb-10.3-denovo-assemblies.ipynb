{
 "cells": [
  {
   "cell_type": "markdown",
   "metadata": {},
   "source": [
    "# Notebook 10.3: *denovo* Assembly difficulties\n",
    "\n",
    "\n",
    "### Reading:\n",
    "This notebook is meant to accompany the following assigned article: Compeau, Phillip E. C., Pavel A. Pevzner, and Glenn Tesler. 2011. “How to Apply de Bruijn Graphs to Genome Assembly.” Nature Biotechnology 29 (11): 987–91. https://doi.org/10.1038/nbt.2023.\n",
    "\n",
    "\n",
    "### Learning objectives: \n",
    "\n",
    "By the end of this notebook you should: \n",
    "\n",
    "1. Understand how short-reads and genetic variation affect genome assembly.\n",
    "2. Be able to follow code for de Bruijn graph assembly from short reads. "
   ]
  },
  {
   "cell_type": "markdown",
   "metadata": {},
   "source": [
    "### Overview: \n",
    "In this notebook we are going to write Python functions to assemble a [contig](https://en.wikipedia.org/wiki/Contig) from a set of *sequenced reads* broken into *kmers*. This differs from the last two notebooks where we have generated kmers directly from the known genome sequence. Here the reads will cover small portions of the full genome, and they will contain variation. We are getting closer to the real task of genome assembly, which is to infer the genome sequence from the kind of data that available to us. Next week we will explore how we add long-read sequences to gain additional information. But for now, we are sticking with assembly based only on short read sequences. \n",
    "\n",
    "\n"
   ]
  },
  {
   "cell_type": "markdown",
   "metadata": {},
   "source": [
    "### Shotgun genome sequencing\n",
    "\n",
    "*Shotgun sequencing* is an imperfect way to assemble genomes, but remains the most common starting point for genome assembly today. It is cheap compared to long-read methods, and it does not require any special preparations of the DNA (e.g., DNA extractions that minimize breakage to get longer reads). In practice, we typically aim to cover every spot in the genome with at least 50X coverage in order to accurately identify which regions are heterozygous, and to correct for sequencing errors. For large genomes this can require enormous sequencing efforts, with literally trillions of reads. It's worth noting that although this method is considered cheap, especially for small genomes, to attain 50X coverage of very large genomes, as can be found in organisms like ferns, amphibians, and shrimps, can cost upwards of $100K or more. Illumina is the dominant technology used for short read sequencing and for genome assembly you will always want paired-end reads, since the distance between paired reads provides additional information that can be used to span repeats. "
   ]
  },
  {
   "cell_type": "markdown",
   "metadata": {},
   "source": [
    "## Generate sequenced reads\n",
    "\n",
    "Let's generate a random genome sequence that will serve as the template for generating short read data that we will then use to try to re-assemble the genome. The function `short_read_sequencing()` below will generate short reads from this genome. "
   ]
  },
  {
   "cell_type": "code",
   "execution_count": null,
   "metadata": {},
   "outputs": [],
   "source": [
    "import random\n",
    "import toyplot"
   ]
  },
  {
   "cell_type": "code",
   "execution_count": null,
   "metadata": {},
   "outputs": [],
   "source": [
    "def random_sequence(seqlen):\n",
    "    return \"\".join([random.choice(\"ACGT\") for i in range(seqlen)])"
   ]
  },
  {
   "cell_type": "code",
   "execution_count": null,
   "metadata": {},
   "outputs": [],
   "source": [
    "def short_read_sequencing(sequence, nreads, readlen):\n",
    "    \"generate short reads from a circular genome\"\n",
    "    \n",
    "    # do not allow reads to be longer than genome\n",
    "    assert len(sequence) > readlen, \"readlen must be shorter than sequence\"\n",
    "    \n",
    "    # get random start positions of short reads\n",
    "    starts = [random.randint(0, len(sequence)) for i in range(nreads)]\n",
    "    \n",
    "    # return reads as a list, generate reads by slicing from sequence\n",
    "    reads = []\n",
    "    for position in starts:\n",
    "        end = position + readlen\n",
    "        \n",
    "        # if read extends past end then loop to beginning of sequence\n",
    "        if end > len(sequence):\n",
    "            read = sequence[position:len(sequence)] + sequence[0:end-len(sequence)]\n",
    "        else:\n",
    "            read = sequence[position:position + readlen]\n",
    "        \n",
    "        # append to reads list\n",
    "        reads.append(read)\n",
    "    return reads"
   ]
  },
  {
   "cell_type": "code",
   "execution_count": null,
   "metadata": {},
   "outputs": [],
   "source": [
    "# get a random genome sequence\n",
    "genome = random_sequence(100)\n",
    "\n",
    "# get 100 reads randomly drawn from the genome\n",
    "reads = short_read_sequencing(genome, 100, 25)\n",
    "\n",
    "# print the first 20 reads\n",
    "reads[:20]"
   ]
  },
  {
   "cell_type": "markdown",
   "metadata": {},
   "source": [
    "## Generating Kmers\n",
    "\n",
    "We now have a 100bp genome (treated as circular) that has been sequenced to produce 100 reads that are each 25bp in length. The chances that these 100 reads started at every possible point in the genome is really low, and so it will be hard to build a de Bruijn graph from these reads as they are currently. Instead, we can break them down into smaller kmers. Here we will recycle the function we used last time to get kmers from a sequence, and we will instead get all kmers from all of the reads. "
   ]
  },
  {
   "cell_type": "code",
   "execution_count": null,
   "metadata": {},
   "outputs": [],
   "source": [
    "def get_kmer_count_from_sequence(sequence, k=3, cyclic=True):\n",
    "    \"\"\"\n",
    "    Returns dictionary with keys representing all possible kmers in a sequence\n",
    "    and values counting their occurrence in the sequence.\n",
    "    \"\"\"\n",
    "    # dict to store kmers\n",
    "    kmers = {}\n",
    "    \n",
    "    # count how many times each occurred in this sequence (treated as cyclic)\n",
    "    for i in range(0, len(sequence)):\n",
    "        kmer = sequence[i:i + k]\n",
    "        \n",
    "        # for cyclic sequence get kmers that wrap from end to beginning\n",
    "        length = len(kmer)\n",
    "        if cyclic:\n",
    "            if len(kmer) != k:\n",
    "                kmer += sequence[:(k - length)]\n",
    "        \n",
    "        # if not cyclic then skip kmers at end of sequence\n",
    "        else:\n",
    "            if len(kmer) != k:\n",
    "                continue\n",
    "        \n",
    "        # count occurrence of this kmer in sequence\n",
    "        if kmer in kmers:\n",
    "            kmers[kmer] += 1\n",
    "        else:\n",
    "            kmers[kmer] = 1\n",
    "    \n",
    "    return kmers"
   ]
  },
  {
   "cell_type": "code",
   "execution_count": null,
   "metadata": {},
   "outputs": [],
   "source": [
    "def get_kmer_count_from_reads(reads, k=3):\n",
    "    \"Combines results of 'get_kmer_count_from_sequence()' across many reads\"\n",
    "   \n",
    "    # a dictionary to store kmer counts in\n",
    "    kmers = {}\n",
    "    \n",
    "    # iterate over reads\n",
    "    for read in reads:\n",
    "        \n",
    "        # get kmer count for this read\n",
    "        ikmers = get_kmer_count_from_sequence(read, k, cyclic=False)\n",
    "        \n",
    "        # add this kmer count to the global kmer counter across all reads\n",
    "        for key, value in ikmers.items():\n",
    "            if key in kmers:\n",
    "                kmers[key] += value\n",
    "            else:\n",
    "                kmers[key] = value\n",
    "                \n",
    "    # return kmer counts\n",
    "    return kmers"
   ]
  },
  {
   "cell_type": "code",
   "execution_count": null,
   "metadata": {},
   "outputs": [],
   "source": [
    "get_kmer_count_from_reads(reads)"
   ]
  },
  {
   "cell_type": "markdown",
   "metadata": {},
   "source": [
    "### Get de Bruijn graph\n",
    "\n",
    "Again, this is the same function we used in the previous notebook for build a graph of edges form the kmers. "
   ]
  },
  {
   "cell_type": "code",
   "execution_count": null,
   "metadata": {},
   "outputs": [],
   "source": [
    "def get_debruijn_edges_from_kmers(kmers):\n",
    "    \"\"\"\n",
    "    Every possible (k-1)mer (n-1 suffix and prefix of kmers) is assigned\n",
    "    to a node, and we connect one node to another if the (k-1)mer overlaps \n",
    "    another. Nodes are (k-1)mers, edges are kmers.\n",
    "    \"\"\"\n",
    "    # store edges as tuples in a set\n",
    "    edges = set()\n",
    "    \n",
    "    # compare each (k-1)mer\n",
    "    for k1, count1 in kmers.items():\n",
    "        for k2, count2 in kmers.items():\n",
    "            \n",
    "            # if both kmers occurred in the sequence\n",
    "            if (count1 & count2) and (k1 != k2):\n",
    "            \n",
    "                # if they overlap then add to edges\n",
    "                if k1[1:] == k2[:-1]:\n",
    "                    edges.add((k1[:-1], k2[:-1]))\n",
    "                if k1[:-1] == k2[1:]:\n",
    "                    edges.add((k2[:-1], k1[:-1]))\n",
    "\n",
    "    return edges"
   ]
  },
  {
   "cell_type": "code",
   "execution_count": null,
   "metadata": {},
   "outputs": [],
   "source": [
    "def plot_debruijn_graph(edges, width=500, height=500, vlshow=True):\n",
    "    \"returns a toyplot graph from an input of edges\"\n",
    "    graph = toyplot.graph(\n",
    "        [i[0] for i in edges],\n",
    "        [i[1] for i in edges],\n",
    "        width=width,\n",
    "        height=height,\n",
    "        tmarker=\">\", \n",
    "        vsize=5,\n",
    "        vstyle={\"stroke\": \"black\", \"stroke-width\": 2, \"fill\": \"black\"},\n",
    "        vlshow=vlshow,\n",
    "        estyle={\"stroke\": \"black\", \"stroke-width\": 2},\n",
    "        layout=toyplot.layout.FruchtermanReingold(edges=toyplot.layout.CurvedEdges()))\n",
    "    return graph"
   ]
  },
  {
   "cell_type": "markdown",
   "metadata": {},
   "source": [
    "### Combine function together\n",
    "We now have all of the functions we need to assemble a genome sequence. Let's start with an easy example. Here we want to assemble a 50bp genome and we sequenced 1000 reads that are each 15bp long. So we can assume that the genome is probably covered completely by kmers of these reads. Using k=8 we can see below that a single Eulerian path is assembled from the short reads. Success. Because the genome is circular the start and end point of the graph do not match perfectly with the sequence, but the order of the genome matches. "
   ]
  },
  {
   "cell_type": "code",
   "execution_count": null,
   "metadata": {},
   "outputs": [],
   "source": [
    "random.seed(123)\n",
    "genome = random_sequence(50)\n",
    "reads = short_read_sequencing(genome, 1000, 15)\n",
    "kmers = get_kmer_count_from_reads(reads, k=8)\n",
    "edges = get_debruijn_edges_from_kmers(kmers)\n",
    "plot_debruijn_graph(edges);\n",
    "print(genome)"
   ]
  },
  {
   "cell_type": "markdown",
   "metadata": {},
   "source": [
    "### Low coverage sequencing\n",
    "What if we now reduce the sequencing coverage to a much lower amount, so that there is possibly parts of the genome that are not covered by n-1 overlapping kmers. When we use 8mers like above, but with lower coverage, we now see that the genome cannot be assembled, and is instead broken into several smaller contigs. "
   ]
  },
  {
   "cell_type": "code",
   "execution_count": null,
   "metadata": {},
   "outputs": [],
   "source": [
    "random.seed(123)\n",
    "genome = random_sequence(50)\n",
    "reads = short_read_sequencing(genome, 100, 15)\n",
    "kmers = get_kmer_count_from_reads(reads, k=8)\n",
    "edges = get_debruijn_edges_from_kmers(kmers)\n",
    "plot_debruijn_graph(edges);"
   ]
  },
  {
   "cell_type": "markdown",
   "metadata": {},
   "source": [
    "### Heterozygosity\n",
    "Heterozygosity makes it much harder to assemble genomes since it introduces *bubbles* into the de Bruijn graph where a kmer can connect to multiple others. Let's look at an example where this is easier to see, here a 25bp genome. In the first example we sequence 1000 15bp reads and the genome assembles easily. In the second example, we sequence 500 15bp reads from each of two different copies of the genome which differ at two heterozygous sites. As a result, this introduces a number of loops into the de Bruijn graph, and thus makes it difficult to know unambiguously what the true sequence is. Finally, in a third example we assemble a genome where the two heterozygous sites are futher apart, further than the kmer size. You can see that now it does not create a loop. Thus, the kmer size and heterozygosity interact in setting the size of unique blocks that are useful for assembling the genome using de Bruijn graphs. In general, it is easiest to assemble genomes that are not highly heterozygous. For this reason researchers often use inbred individuals."
   ]
  },
  {
   "cell_type": "code",
   "execution_count": null,
   "metadata": {},
   "outputs": [],
   "source": [
    "random.seed(1234)\n",
    "genome1 = random_sequence(20)\n",
    "reads1 = short_read_sequencing(genome1, 1000, 15)\n",
    "kmers = get_kmer_count_from_reads(reads1, k=8)\n",
    "edges = get_debruijn_edges_from_kmers(kmers)\n",
    "plot_debruijn_graph(edges);"
   ]
  },
  {
   "cell_type": "code",
   "execution_count": null,
   "metadata": {},
   "outputs": [],
   "source": [
    "random.seed(1234)\n",
    "genome1 = random_sequence(20)\n",
    "\n",
    "# 500 reads from genome copy 1\n",
    "reads1 = short_read_sequencing(genome1, 500, 15)\n",
    "\n",
    "# 500 reads from genome copy 2\n",
    "genome2 = list(genome1)\n",
    "genome2[5] = \"T\"\n",
    "genome2[9] = \"T\"\n",
    "genome2 = \"\".join(genome2)\n",
    "reads2 = short_read_sequencing(genome2, 500, 15)\n",
    "reads = reads1 + reads2\n",
    "\n",
    "# db graph\n",
    "kmers = get_kmer_count_from_reads(reads, k=8)\n",
    "edges = get_debruijn_edges_from_kmers(kmers)\n",
    "plot_debruijn_graph(edges);\n",
    "print(genome1)\n",
    "print(genome2)"
   ]
  },
  {
   "cell_type": "code",
   "execution_count": null,
   "metadata": {},
   "outputs": [],
   "source": [
    "random.seed(1234)\n",
    "genome1 = random_sequence(20)\n",
    "\n",
    "# 500 reads from genome copy 1\n",
    "reads1 = short_read_sequencing(genome1, 500, 15)\n",
    "\n",
    "# 500 reads from genome copy 2\n",
    "genome2 = list(genome1)\n",
    "genome2[1] = \"T\"\n",
    "genome2[19] = \"C\"\n",
    "genome2 = \"\".join(genome2)\n",
    "reads2 = short_read_sequencing(genome2, 500, 15)\n",
    "reads = reads1 + reads2\n",
    "\n",
    "# db graph\n",
    "kmers = get_kmer_count_from_reads(reads, k=8)\n",
    "edges = get_debruijn_edges_from_kmers(kmers)\n",
    "plot_debruijn_graph(edges);\n",
    "print(genome1)\n",
    "print(genome2)"
   ]
  },
  {
   "cell_type": "markdown",
   "metadata": {},
   "source": [
    "### Tip for questions below: \n",
    "To plot a graph without the text labels shown use the argument `vlshow=False`. This will be useful since you only need to evaluate whether the graph looks fully connected below for larger graphs, and not necessarily need to read the node labels. "
   ]
  },
  {
   "cell_type": "code",
   "execution_count": null,
   "metadata": {},
   "outputs": [],
   "source": [
    "# example\n",
    "random.seed(1234)\n",
    "genome1 = random_sequence(20)\n",
    "reads1 = short_read_sequencing(genome1, 1000, 15)\n",
    "kmers = get_kmer_count_from_reads(reads1, k=8)\n",
    "edges = get_debruijn_edges_from_kmers(kmers)\n",
    "plot_debruijn_graph(edges, vlshow=False, width=250, height=250);"
   ]
  },
  {
   "cell_type": "markdown",
   "metadata": {},
   "source": [
    "<div class=\"alert alert-success\">\n",
    "    <b>[6] Action:</b> \n",
    "    Using the functions from above, complete the following: [1] Generate a random genome sequence of length 50; [2] generate 1000 short reads of length 30 from this genome; [3] get kmers from these reads using whatever k size you wish; [4] get de Bruijn graph edges and plot the graph. You should be able to copy and modify the code above to accomplish this. \n",
    "</div>"
   ]
  },
  {
   "cell_type": "code",
   "execution_count": null,
   "metadata": {},
   "outputs": [],
   "source": [
    "# your code here"
   ]
  },
  {
   "cell_type": "markdown",
   "metadata": {},
   "source": [
    "<div class=\"alert alert-success\">\n",
    "    <b>[7] Action:</b> \n",
    "    Using the functions from above, complete the following: [1] Generate a random genome sequence of length 200; [2] try generating 100 or 1000 short reads of length 20 or 50 from this genome; [3] get kmers from these reads using whatever k size you wish; [4] get de Bruijn graph edges and plot the graph. You should be able to copy and modify the code above to accomplish this. Explore how the graph looks when you change the parameters, leave the final executed code in whichever example you like. \n",
    "</div>"
   ]
  },
  {
   "cell_type": "code",
   "execution_count": null,
   "metadata": {},
   "outputs": [],
   "source": [
    "# your code here"
   ]
  },
  {
   "cell_type": "markdown",
   "metadata": {},
   "source": [
    "<div class=\"alert alert-success\">\n",
    "    <b>[8] Question:</b> \n",
    "    From looking at the graphs in the previous question, what did the graph look like when it could not be fully assembled? What kind of relationship did you observe between genome size, read length, and the number of reads needed to reach a fully assembled graph?\n",
    "    </div>"
   ]
  },
  {
   "cell_type": "code",
   "execution_count": null,
   "metadata": {},
   "outputs": [],
   "source": [
    "# your answer here"
   ]
  }
 ],
 "metadata": {
  "kernelspec": {
   "display_name": "Python 3",
   "language": "python",
   "name": "python3"
  },
  "language_info": {
   "codemirror_mode": {
    "name": "ipython",
    "version": 3
   },
   "file_extension": ".py",
   "mimetype": "text/x-python",
   "name": "python",
   "nbconvert_exporter": "python",
   "pygments_lexer": "ipython3",
   "version": "3.6.7"
  }
 },
 "nbformat": 4,
 "nbformat_minor": 2
}
